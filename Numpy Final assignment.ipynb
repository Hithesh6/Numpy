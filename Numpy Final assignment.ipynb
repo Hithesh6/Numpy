{
 "cells": [
  {
   "cell_type": "markdown",
   "id": "268ff67a",
   "metadata": {},
   "source": [
    "# Dataset :- 1"
   ]
  },
  {
   "cell_type": "code",
   "execution_count": 2,
   "id": "6a33b2b8",
   "metadata": {},
   "outputs": [],
   "source": [
    "import numpy as np"
   ]
  },
  {
   "cell_type": "code",
   "execution_count": 3,
   "id": "da704040",
   "metadata": {},
   "outputs": [
    {
     "name": "stdout",
     "output_type": "stream",
     "text": [
      "1-length,2-diameter,3-height,4-weight,5-shucked weight,6-viscera weight,7-shell weight,8-age\n"
     ]
    },
    {
     "data": {
      "text/plain": [
       "array([[ 1.575     ,  1.225     ,  0.375     , ...,  6.3219385 ,\n",
       "         9.63883   , 10.        ],\n",
       "       [ 1.2375    ,  1.        ,  0.375     , ...,  3.798833  ,\n",
       "         7.654365  , 19.        ],\n",
       "       [ 1.45      ,  1.1625    ,  0.4125    , ...,  7.01650125,\n",
       "         7.257472  , 11.        ],\n",
       "       ...,\n",
       "       [ 1.125     ,  0.9125    ,  0.2875    , ...,  1.984465  ,\n",
       "         3.118445  ,  7.        ],\n",
       "       [ 1.625     ,  1.275     ,  0.4125    , ...,  7.86698625,\n",
       "        10.489315  , 11.        ],\n",
       "       [ 1.5875    ,  1.25      ,  0.3875    , ...,  7.38504475,\n",
       "         8.788345  , 11.        ]])"
      ]
     },
     "execution_count": 3,
     "metadata": {},
     "output_type": "execute_result"
    }
   ],
   "source": [
    "print('1-length,2-diameter,3-height,4-weight,5-shucked weight,6-viscera weight,7-shell weight,8-age')\n",
    "a=np.genfromtxt(r\"C:\\Users\\hithe\\Downloads\\train_extended.csv\",delimiter=',',skip_header=1)\n",
    "a"
   ]
  },
  {
   "cell_type": "markdown",
   "id": "a0336fe1",
   "metadata": {},
   "source": [
    "## 1) what is the min and max of length column"
   ]
  },
  {
   "cell_type": "code",
   "execution_count": 4,
   "id": "1fa609f9",
   "metadata": {},
   "outputs": [
    {
     "name": "stdout",
     "output_type": "stream",
     "text": [
      "7.58349125\n",
      "0.0\n"
     ]
    }
   ],
   "source": [
    "maxi=np.max(a[:,0])\n",
    "mini=np.min(a[:,0])\n",
    "print(maxi)\n",
    "print(mini)"
   ]
  },
  {
   "cell_type": "markdown",
   "id": "2c7fc363",
   "metadata": {},
   "source": [
    "## 2) Difference between the max and min length of the length coloumn"
   ]
  },
  {
   "cell_type": "code",
   "execution_count": 78,
   "id": "32972fed",
   "metadata": {},
   "outputs": [
    {
     "name": "stdout",
     "output_type": "stream",
     "text": [
      "7.58349125\n"
     ]
    }
   ],
   "source": [
    "print(maxi-mini)"
   ]
  },
  {
   "cell_type": "markdown",
   "id": "d21c7e31",
   "metadata": {},
   "source": [
    "## 3) Find coloumn wise age"
   ]
  },
  {
   "cell_type": "code",
   "execution_count": 79,
   "id": "8137325b",
   "metadata": {},
   "outputs": [
    {
     "data": {
      "text/plain": [
       "array([10., 19., 11., ...,  7., 11., 11.])"
      ]
     },
     "execution_count": 79,
     "metadata": {},
     "output_type": "execute_result"
    }
   ],
   "source": [
    "a[:,7]"
   ]
  },
  {
   "cell_type": "markdown",
   "id": "282feba4",
   "metadata": {},
   "source": [
    "# 4) Find out all the age whose height is greater than 0.4 "
   ]
  },
  {
   "cell_type": "code",
   "execution_count": 80,
   "id": "731a1538",
   "metadata": {},
   "outputs": [
    {
     "data": {
      "text/plain": [
       "array([11., 14., 13., ..., 11., 11., 11.])"
      ]
     },
     "execution_count": 80,
     "metadata": {},
     "output_type": "execute_result"
    }
   ],
   "source": [
    "a1=a[a[:,2]>0.4]\n",
    "a1[:,7]"
   ]
  },
  {
   "cell_type": "markdown",
   "id": "1fc149db",
   "metadata": {},
   "source": [
    "## 5) what is the avg weight and height of whose age is 10 "
   ]
  },
  {
   "cell_type": "code",
   "execution_count": 81,
   "id": "620dda7b",
   "metadata": {},
   "outputs": [
    {
     "name": "stdout",
     "output_type": "stream",
     "text": [
      "Average height is:-  0.3833672856539947 \n",
      "\n",
      "Average weight is:-  28.243308450511314\n"
     ]
    }
   ],
   "source": [
    "a2=a[a[:,7]==10]\n",
    "avg_hei=a2[:,2]\n",
    "avg_wei=a2[:,3]\n",
    "print('Average height is:- ',np.mean(avg_hei),'\\n')\n",
    "print('Average weight is:- ',np.mean(avg_wei))"
   ]
  },
  {
   "cell_type": "markdown",
   "id": "4e325ff8",
   "metadata": {},
   "source": [
    "## 6) What is total of shell weight"
   ]
  },
  {
   "cell_type": "code",
   "execution_count": 82,
   "id": "6ac186fe",
   "metadata": {},
   "outputs": [
    {
     "data": {
      "text/plain": [
       "1326845.8295214002"
      ]
     },
     "execution_count": 82,
     "metadata": {},
     "output_type": "execute_result"
    }
   ],
   "source": [
    "np.sum(a[:,6])"
   ]
  },
  {
   "cell_type": "markdown",
   "id": "b3f5351b",
   "metadata": {},
   "source": [
    "## 7) How many persons belong to each and every unique age"
   ]
  },
  {
   "cell_type": "code",
   "execution_count": 83,
   "id": "25a47381",
   "metadata": {},
   "outputs": [
    {
     "data": {
      "text/plain": [
       "(array([ 1.,  2.,  3.,  4.,  5.,  6.,  7.,  8.,  9., 10., 11., 12., 13.,\n",
       "        14., 15., 16., 17., 18., 19., 20., 21., 22., 23., 24., 25., 26.,\n",
       "        27., 29.]),\n",
       " array([   46,    42,   625,  2787,  5475, 12450, 18276, 26818, 32906,\n",
       "        30803, 23457, 12717, 10037,  6352,  4831,  3191,  2705,  1953,\n",
       "         1591,  1206,   721,   296,   352,   110,    51,    46,    99,\n",
       "           57], dtype=int64))"
      ]
     },
     "execution_count": 83,
     "metadata": {},
     "output_type": "execute_result"
    }
   ],
   "source": [
    "np.unique(a[:,7],return_counts=True)"
   ]
  },
  {
   "cell_type": "markdown",
   "id": "5ac359e5",
   "metadata": {},
   "source": [
    "## 8) What is the difference between shucked weight and viscera weight"
   ]
  },
  {
   "cell_type": "code",
   "execution_count": 84,
   "id": "aa93bb92",
   "metadata": {},
   "outputs": [
    {
     "data": {
      "text/plain": [
       "array([5.9817445, 3.855532 , 4.1106775, ..., 2.9199985, 5.329706 ,\n",
       "       9.8372765])"
      ]
     },
     "execution_count": 84,
     "metadata": {},
     "output_type": "execute_result"
    }
   ],
   "source": [
    "a[:,4]-a[:,5]"
   ]
  },
  {
   "cell_type": "markdown",
   "id": "d49e08b1",
   "metadata": {},
   "source": [
    "## 9) What is average height of the persons whose age is between 14 and 19"
   ]
  },
  {
   "cell_type": "code",
   "execution_count": 85,
   "id": "fed51105",
   "metadata": {},
   "outputs": [
    {
     "data": {
      "text/plain": [
       "0.103115"
      ]
     },
     "execution_count": 85,
     "metadata": {},
     "output_type": "execute_result"
    }
   ],
   "source": [
    "a3=(a[:,7]>=14) & (a[:,7]<=19)\n",
    "np.mean(a3)"
   ]
  },
  {
   "cell_type": "markdown",
   "id": "c70b7262",
   "metadata": {},
   "source": [
    "## 10) What is the average weight if we include shucked weight and viscera weight and shell weight"
   ]
  },
  {
   "cell_type": "code",
   "execution_count": 6,
   "id": "4c522a0c",
   "metadata": {},
   "outputs": [
    {
     "data": {
      "text/plain": [
       "21.616780352404746"
      ]
     },
     "execution_count": 6,
     "metadata": {},
     "output_type": "execute_result"
    }
   ],
   "source": [
    "a4=a[:,4]+a[:,5]+a[:,6]\n",
    "np.mean(a4)"
   ]
  },
  {
   "cell_type": "markdown",
   "id": "57f8450c",
   "metadata": {},
   "source": [
    "# Dataset :- 2"
   ]
  },
  {
   "cell_type": "code",
   "execution_count": 22,
   "id": "918483b2",
   "metadata": {},
   "outputs": [
    {
     "name": "stdout",
     "output_type": "stream",
     "text": [
      "1-total_bill,2-tip,3-sex,4-smoker,5-day,6-time,7-size\n"
     ]
    },
    {
     "data": {
      "text/plain": [
       "array([[  0.  ,  16.99,   1.01, ...,   1.  ,   0.  ,   2.  ],\n",
       "       [  1.  ,  10.34,   1.66, ...,   1.  ,   0.  ,   3.  ],\n",
       "       [  2.  ,  21.01,   3.5 , ...,   1.  ,   0.  ,   3.  ],\n",
       "       ...,\n",
       "       [241.  ,  22.67,   2.  , ...,   0.  ,   0.  ,   2.  ],\n",
       "       [242.  ,  17.82,   1.75, ...,   0.  ,   0.  ,   2.  ],\n",
       "       [243.  ,  18.78,   3.  , ...,   2.  ,   0.  ,   2.  ]])"
      ]
     },
     "execution_count": 22,
     "metadata": {},
     "output_type": "execute_result"
    }
   ],
   "source": [
    "print('1-total_bill,2-tip,3-sex,4-smoker,5-day,6-time,7-size')\n",
    "b=np.genfromtxt(r\"C:\\Users\\hithe\\Downloads\\tipsf.csv\",delimiter=',',skip_header=1)\n",
    "b"
   ]
  },
  {
   "cell_type": "markdown",
   "id": "830f6789",
   "metadata": {},
   "source": [
    "## 1) What is the total bill value"
   ]
  },
  {
   "cell_type": "code",
   "execution_count": 23,
   "id": "45eefb33",
   "metadata": {},
   "outputs": [
    {
     "data": {
      "text/plain": [
       "4827.77"
      ]
     },
     "execution_count": 23,
     "metadata": {},
     "output_type": "execute_result"
    }
   ],
   "source": [
    "np.sum(b[:,1])"
   ]
  },
  {
   "cell_type": "markdown",
   "id": "0465f27d",
   "metadata": {},
   "source": [
    "## 2) What is the total tip value"
   ]
  },
  {
   "cell_type": "code",
   "execution_count": 24,
   "id": "68ea1576",
   "metadata": {},
   "outputs": [
    {
     "data": {
      "text/plain": [
       "731.5799999999999"
      ]
     },
     "execution_count": 24,
     "metadata": {},
     "output_type": "execute_result"
    }
   ],
   "source": [
    "np.sum(b[:,2])"
   ]
  },
  {
   "cell_type": "markdown",
   "id": "df0f6f41",
   "metadata": {},
   "source": [
    "## 3) count how many sunday,saturday,thursdays,fridays are there"
   ]
  },
  {
   "cell_type": "code",
   "execution_count": 70,
   "id": "d5b5dda9",
   "metadata": {},
   "outputs": [
    {
     "data": {
      "text/plain": [
       "(array([0., 1., 2., 3.]), array([87, 76, 62, 19], dtype=int64))"
      ]
     },
     "execution_count": 70,
     "metadata": {},
     "output_type": "execute_result"
    }
   ],
   "source": [
    "np.unique(b[:,5],return_counts=True)"
   ]
  },
  {
   "cell_type": "markdown",
   "id": "28b829b0",
   "metadata": {},
   "source": [
    "## 4) How many smokers are there"
   ]
  },
  {
   "cell_type": "code",
   "execution_count": 38,
   "id": "7109fc17",
   "metadata": {},
   "outputs": [
    {
     "data": {
      "text/plain": [
       "(array([0., 1.]), array([151,  93], dtype=int64))"
      ]
     },
     "execution_count": 38,
     "metadata": {},
     "output_type": "execute_result"
    }
   ],
   "source": [
    "np.unique(b[:,4],return_counts=True)"
   ]
  },
  {
   "cell_type": "markdown",
   "id": "d8d39c1a",
   "metadata": {},
   "source": [
    "## 5) What is the avg tip given by male and female"
   ]
  },
  {
   "cell_type": "code",
   "execution_count": 61,
   "id": "e896624a",
   "metadata": {},
   "outputs": [
    {
     "name": "stdout",
     "output_type": "stream",
     "text": [
      "Avg tip given by male:-  3.0896178343949043\n",
      "Avg tip given by female:-  2.8334482758620685\n"
     ]
    }
   ],
   "source": [
    "b1=b[b[:,3]!=0] #male\n",
    "b2=b[b[:,3]==0] #female\n",
    "print('Avg tip given by male:- ',np.mean(b1[:,2]))\n",
    "print('Avg tip given by female:- ',np.mean(b2[:,2]))"
   ]
  },
  {
   "cell_type": "markdown",
   "id": "44715aba",
   "metadata": {},
   "source": [
    "## 6) How much amount have been spent by male and female"
   ]
  },
  {
   "cell_type": "code",
   "execution_count": 66,
   "id": "83b392dc",
   "metadata": {},
   "outputs": [
    {
     "name": "stdout",
     "output_type": "stream",
     "text": [
      "Amount have been spent by male:-  3256.8199999999997 \n",
      "\n",
      "Amount have been spent by female:-  1570.9499999999996\n"
     ]
    }
   ],
   "source": [
    "print('Amount have been spent by male:- ',np.sum(b1[:,1]),'\\n')\n",
    "print('Amount have been spent by female:- ',np.sum(b2[:,1]))"
   ]
  },
  {
   "cell_type": "markdown",
   "id": "1eeec30a",
   "metadata": {},
   "source": [
    "## 7) What is the min and max tip given"
   ]
  },
  {
   "cell_type": "code",
   "execution_count": 69,
   "id": "efaab26f",
   "metadata": {},
   "outputs": [
    {
     "name": "stdout",
     "output_type": "stream",
     "text": [
      "min tip:-  1.0\n",
      "max tip:-  10.0\n"
     ]
    }
   ],
   "source": [
    "print('min tip:- ',np.min(b[:,2]))\n",
    "print('max tip:- ',np.max(b[:,2]))"
   ]
  },
  {
   "cell_type": "markdown",
   "id": "16b00611",
   "metadata": {},
   "source": [
    "## 8) How many male and females are going for lunch and dinner "
   ]
  },
  {
   "cell_type": "code",
   "execution_count": null,
   "id": "163a97d8",
   "metadata": {},
   "outputs": [],
   "source": []
  },
  {
   "cell_type": "markdown",
   "id": "48f0dbe3",
   "metadata": {},
   "source": [
    "## 9) Find out the avg size"
   ]
  },
  {
   "cell_type": "code",
   "execution_count": 71,
   "id": "cc883c21",
   "metadata": {},
   "outputs": [
    {
     "data": {
      "text/plain": [
       "2.569672131147541"
      ]
     },
     "execution_count": 71,
     "metadata": {},
     "output_type": "execute_result"
    }
   ],
   "source": [
    "np.mean(b[:,7])"
   ]
  },
  {
   "cell_type": "markdown",
   "id": "128aeb08",
   "metadata": {},
   "source": [
    "## 10) How many female smokers are there and males are there "
   ]
  },
  {
   "cell_type": "code",
   "execution_count": 98,
   "id": "2b7a6859",
   "metadata": {},
   "outputs": [
    {
     "name": "stdout",
     "output_type": "stream",
     "text": [
      "Count of Male smokers are:-  60\n",
      "Counr of female smokers are:-  33\n"
     ]
    }
   ],
   "source": [
    "print('Count of Male smokers are:- ',len(b1[b1[:,4]==1]))\n",
    "print('Counr of female smokers are:- ',len(b2[b2[:,4]==1]))"
   ]
  }
 ],
 "metadata": {
  "kernelspec": {
   "display_name": "Python 3 (ipykernel)",
   "language": "python",
   "name": "python3"
  },
  "language_info": {
   "codemirror_mode": {
    "name": "ipython",
    "version": 3
   },
   "file_extension": ".py",
   "mimetype": "text/x-python",
   "name": "python",
   "nbconvert_exporter": "python",
   "pygments_lexer": "ipython3",
   "version": "3.11.3"
  }
 },
 "nbformat": 4,
 "nbformat_minor": 5
}
